{
 "cells": [
  {
   "cell_type": "code",
   "execution_count": 3,
   "metadata": {},
   "outputs": [
    {
     "name": "stdout",
     "output_type": "stream",
     "text": [
      "Enter the no. of symbols: 2\n",
      "0.2 0.25 0.1 0.25 0.05 0.05 0.1\n",
      "Code of the message is m1: 00\n",
      "\n",
      "Code of the message is m2: 10\n",
      "\n",
      "Code of the message is m3: 110\n",
      "\n",
      "Code of the message is m4: 01\n",
      "\n",
      "Code of the message is m5: 11101\n",
      "\n",
      "Code of the message is m6: 11100\n",
      "\n",
      "Code of the message is m7: 1111\n",
      "\n"
     ]
    }
   ],
   "source": [
    "symbol = int(input(\"Enter the no. of symbols: \"))\n",
    "list1 = list(map(float, input().split()))\n",
    "message_no = 0\n",
    "\n",
    "while(message_no < len(list1)):\n",
    "    string1 = \"\"\n",
    "    list2 = list(list1)\n",
    "    list2.sort()\n",
    "    list2.reverse()\n",
    "\n",
    "    i = 0\n",
    "    n = 0\n",
    "    while (i < message_no):\n",
    "        if (list1[message_no] == list1[i]):\n",
    "            n = n + 1\n",
    "        i = i + 1\n",
    "\n",
    "    index1 = list2.index(list1[message_no])\n",
    "    index1 = index1 + n\n",
    "    flag2 = 0\n",
    "\n",
    "    while(flag2 == 0):\n",
    "        if (len(list2) == symbol):\n",
    "            flag2 = 1\n",
    "            flag = 0\n",
    "            i = symbol//2\n",
    "            k = 0\n",
    "            while (flag == 0):\n",
    "                if (k == index1):\n",
    "                    string1 = str(i) + string1\n",
    "                    flag = 1\n",
    "                k = k + 1\n",
    "                i = i - 1\n",
    "\n",
    "        elif (((len(list2) - symbol) <= index1) and ((len(list2) > index1))):\n",
    "            flag = 0\n",
    "            i = symbol//2\n",
    "            k = (len(list2) - symbol)\n",
    "            while (flag == 0):\n",
    "                if (k == index1):\n",
    "                    string1 = str(i) + string1\n",
    "                    flag = 1\n",
    "                k = k + 1\n",
    "                i = i - 1\n",
    "            sum1 = 0\n",
    "            sum1 = sum(list2[(len(list2) - symbol):])\n",
    "            del(list2[(len(list2) - symbol):])\n",
    "            list2.append(sum1)\n",
    "            list2.sort()\n",
    "            list2.reverse()\n",
    "            i = len(list2) - 1\n",
    "            flag = 0\n",
    "            while (flag == 0):\n",
    "                if (sum1 == list2[i]):\n",
    "                    index1 = i\n",
    "                    flag = 1\n",
    "                i = i - 1\n",
    "        else:\n",
    "            sum1 = 0\n",
    "            sum1 = sum(list2[(len(list2) - symbol):])\n",
    "\n",
    "            if (sum1 > list2[index1]):\n",
    "                index1 = index1 + 1\n",
    "\n",
    "            del(list2[(len(list2) - symbol):])\n",
    "            list2.append(sum1)\n",
    "            list2.sort()\n",
    "            list2.reverse()\n",
    "\n",
    "    print(\"Code of the message is m\" + str(message_no + 1) + \": \" + string1)\n",
    "    print(\"\")\n",
    "    message_no = message_no + 1"
   ]
  },
  {
   "cell_type": "code",
   "execution_count": null,
   "metadata": {},
   "outputs": [],
   "source": []
  },
  {
   "cell_type": "code",
   "execution_count": null,
   "metadata": {},
   "outputs": [],
   "source": []
  },
  {
   "cell_type": "code",
   "execution_count": null,
   "metadata": {},
   "outputs": [],
   "source": []
  }
 ],
 "metadata": {
  "kernelspec": {
   "display_name": "Python 3",
   "language": "python",
   "name": "python3"
  },
  "language_info": {
   "codemirror_mode": {
    "name": "ipython",
    "version": 3
   },
   "file_extension": ".py",
   "mimetype": "text/x-python",
   "name": "python",
   "nbconvert_exporter": "python",
   "pygments_lexer": "ipython3",
   "version": "3.6.4"
  }
 },
 "nbformat": 4,
 "nbformat_minor": 2
}
