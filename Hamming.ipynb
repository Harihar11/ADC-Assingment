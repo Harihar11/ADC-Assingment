{
 "cells": [
  {
   "cell_type": "markdown",
   "metadata": {},
   "source": [
    "# Coder"
   ]
  },
  {
   "cell_type": "code",
   "execution_count": 1,
   "metadata": {},
   "outputs": [
    {
     "name": "stdout",
     "output_type": "stream",
     "text": [
      "Enter the no. of bits: 4\n",
      "1 1 0 1\n",
      "ODD/EVEN 0/1: 1\n",
      "[1, 0, 1, 0, 1, 0, 1]\n"
     ]
    }
   ],
   "source": [
    "import math\n",
    "\n",
    "bits = int(input(\"Enter the no. of bits: \"))\n",
    "list1 = list(map(int, input().split()))\n",
    "passerbys = int(math.log(bits, 2))+ 1\n",
    "select = int(input(\"ODD/EVEN 0/1: \"))\n",
    "\n",
    "list2 = list(list1)\n",
    "i = 0\n",
    "while(i < passerbys):\n",
    "    list2.insert(((2**i) - 1), 'P' + str(i + 1))\n",
    "    i = i + 1\n",
    "\n",
    "\n",
    "i = 0\n",
    "j = 0\n",
    "while(i < passerbys):\n",
    "    sum1 = 0\n",
    "    n = 2**i\n",
    "    j = n - 1\n",
    "    while(j < len(list2)):\n",
    "        k = j\n",
    "        m = k\n",
    "        while(k < (m + n)):\n",
    "            if (list2[k] == 1):\n",
    "                sum1 = sum1 + 1\n",
    "            k = k + 1\n",
    "        j = j + 2*n\n",
    "    \n",
    "    \n",
    "    if((sum1%2 == 0) and (select == 1)):\n",
    "        list2[2**i - 1] = 0\n",
    "        \n",
    "    elif((sum1%2 == 0) and (select == 0)):\n",
    "        list2[2**i - 1] = 1\n",
    "    \n",
    "    elif((sum1%2 != 0) and (select == 0)):\n",
    "        list2[2**i - 1] = 0\n",
    "    \n",
    "    else:\n",
    "        list2[2**i - 1] = 1\n",
    "    i = i + 1\n",
    "        \n",
    "    \n",
    "print(list2)    "
   ]
  },
  {
   "cell_type": "markdown",
   "metadata": {},
   "source": [
    "# Decoder"
   ]
  },
  {
   "cell_type": "code",
   "execution_count": 2,
   "metadata": {},
   "outputs": [
    {
     "name": "stdout",
     "output_type": "stream",
     "text": [
      "Enter the orignal no. of bits: 4\n",
      "1 0 0 0 1 0 1\n",
      "ODD/EVEN 0/1: 1\n",
      "[1, 1, 0, 1]\n"
     ]
    }
   ],
   "source": [
    "import math\n",
    "bits = int(input(\"Enter the orignal no. of bits: \"))\n",
    "list1 = list(map(int, input().split()))\n",
    "passerbys = int(math.log(bits, 2))+ 1\n",
    "select = int(input(\"ODD/EVEN 0/1: \"))\n",
    "\n",
    "list2 = list(list1)\n",
    "list3 = []\n",
    "\n",
    "\n",
    "i = 0\n",
    "j = 0\n",
    "while(i < passerbys):\n",
    "    sum1 = 0\n",
    "    n = 2**i\n",
    "    j = n - 1\n",
    "    while(j < len(list2)):\n",
    "        k = j\n",
    "        m = k\n",
    "        while(k < (m + n)):\n",
    "            if (list2[k] == 1):\n",
    "                sum1 = sum1 + 1\n",
    "            k = k + 1\n",
    "        j = j + 2*n\n",
    "    \n",
    "    \n",
    "    if((sum1%2 == 0) and (select == 1)):\n",
    "        list3.insert(0, 0)\n",
    "        \n",
    "    elif((sum1%2 == 0) and (select == 0)):\n",
    "        list3.insert(0, 1)\n",
    "    \n",
    "    elif((sum1%2 != 0) and (select == 0)):\n",
    "        list3.insert(0, 0)\n",
    "    \n",
    "    else:\n",
    "        list3.insert(0, 1)\n",
    "    i = i + 1\n",
    "    \n",
    "\n",
    "i = 0\n",
    "sum1 = 0\n",
    "while(i < passerbys):\n",
    "    sum1 = list3[passerbys - 1 - i]*(2**i) + sum1\n",
    "    i = i + 1\n",
    "    \n",
    "if (list2[sum1 - 1] == 1):\n",
    "    list2[sum1 - 1] = 0\n",
    "else:\n",
    "    list2[sum1 - 1] = 1\n",
    "\n",
    "    \n",
    "i = passerbys - 1\n",
    "while(i >= 0):\n",
    "    del(list2[2**i - 1])\n",
    "    i = i - 1\n",
    "\n",
    "\n",
    "    \n",
    "print(list2)    \n"
   ]
  },
  {
   "cell_type": "code",
   "execution_count": null,
   "metadata": {},
   "outputs": [],
   "source": []
  }
 ],
 "metadata": {
  "kernelspec": {
   "display_name": "Python 3",
   "language": "python",
   "name": "python3"
  },
  "language_info": {
   "codemirror_mode": {
    "name": "ipython",
    "version": 3
   },
   "file_extension": ".py",
   "mimetype": "text/x-python",
   "name": "python",
   "nbconvert_exporter": "python",
   "pygments_lexer": "ipython3",
   "version": "3.6.4"
  }
 },
 "nbformat": 4,
 "nbformat_minor": 2
}
